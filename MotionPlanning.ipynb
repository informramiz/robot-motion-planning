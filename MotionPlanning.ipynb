{
 "cells": [
  {
   "cell_type": "markdown",
   "metadata": {},
   "source": [
    "# Robot Motion Planning"
   ]
  },
  {
   "cell_type": "markdown",
   "metadata": {},
   "source": [
    "## Function Specifications"
   ]
  },
  {
   "cell_type": "markdown",
   "metadata": {},
   "source": [
    "Goal is to find a shortest path through a maze/grid in which there are hurdles as well. Grid/Maze format:\n",
    "- 0 = Navigable space\n",
    "- 1 = Occupied space\n",
    "\n",
    "Define a function, search() that returns a list in the form of [optimal path length, row, col]. For the grid shown below, function should output [11, 4, 5].\n",
    "\n",
    "If there is no valid path from the start point to the goal, function should return the string 'fail'."
   ]
  },
  {
   "cell_type": "markdown",
   "metadata": {},
   "source": [
    "![visualization of maze](visualization.png)"
   ]
  },
  {
   "cell_type": "code",
   "execution_count": 1,
   "metadata": {
    "collapsed": true
   },
   "outputs": [],
   "source": [
    "#function to calculate next cell after specificed move has been made\n",
    "def get_next_cell(current_cell, move):\n",
    "    next_cell = [current_cell[0] + move[0], current_cell[1] + move[1]]\n",
    "    return next_cell"
   ]
  },
  {
   "cell_type": "code",
   "execution_count": 2,
   "metadata": {
    "collapsed": false
   },
   "outputs": [],
   "source": [
    "#Function to check if making the passed move is possible and valid\n",
    "def is_move_valid(grid, current_cell, move):\n",
    "    #calculate the next cell\n",
    "    next_cell = get_next_cell(current_cell, move)\n",
    "    \n",
    "    #make sure we are not overshooting the maze/grid boundary\n",
    "    if next_cell[0] >= len(grid) or next_cell[1] >= len(grid[0]):\n",
    "        return False\n",
    "    \n",
    "    #make sure we are not undershooting the maze/grid boundary\n",
    "    if next_cell[0] < 0 or next_cell[1] < 0:\n",
    "        return False\n",
    "    \n",
    "    #make sure the cell is not already occupied, either because \n",
    "    #it is an obstacle or we traveresed it before\n",
    "    if grid[next_cell[0]][next_cell[1]] == 1:\n",
    "        return False\n",
    "    \n",
    "    return True"
   ]
  },
  {
   "cell_type": "code",
   "execution_count": 3,
   "metadata": {
    "collapsed": true
   },
   "outputs": [],
   "source": [
    "#function to make a move, it assumes that the move\n",
    "#passed is a valid move to make\n",
    "def make_move(grid, current_cell, move):\n",
    "    #calculate the next cell\n",
    "    #calculate the next cell\n",
    "    next_cell = get_next_cell(current_cell, move)\n",
    "    \n",
    "    #update the grid cell as marked\n",
    "    grid[next_cell[0]][next_cell[1]] = 1"
   ]
  },
  {
   "cell_type": "code",
   "execution_count": 4,
   "metadata": {
    "collapsed": true
   },
   "outputs": [],
   "source": [
    "#function to find possible adjacent cells which are not occupied\n",
    "def find_available_cells(grid, current_cell, moves):\n",
    "    available_cells = []\n",
    "    \n",
    "    for move in moves:\n",
    "        if (is_move_valid(grid, current_cell, move)):\n",
    "            available_cells.append(get_next_cell(current_cell, move))\n",
    "            \n",
    "    return available_cells"
   ]
  },
  {
   "cell_type": "code",
   "execution_count": 5,
   "metadata": {
    "collapsed": true
   },
   "outputs": [],
   "source": [
    "# Define a function, search() that returns a list\n",
    "# in the form of [optimal path length, row, col]. For\n",
    "# the grid shown below, function should output\n",
    "# [11, 4, 5].\n",
    "#\n",
    "# If there is no valid path from the start point\n",
    "# to the goal, function should return the string\n",
    "# 'fail'\n",
    "# ----------\n",
    "\n",
    "# Grid/Maze format:\n",
    "#   0 = Navigable space\n",
    "#   1 = Occupied space\n",
    "\n",
    "grid = [[0, 0, 1, 0, 0, 0],\n",
    "        [0, 0, 1, 0, 0, 0],\n",
    "        [0, 0, 0, 0, 1, 0],\n",
    "        [0, 0, 1, 1, 1, 0],\n",
    "        [0, 0, 0, 0, 1, 0]]\n",
    "\n",
    "# grid = [[0, 1],\n",
    "#         [0, 0]]\n",
    "\n",
    "# grid = [[0, 1, 1, 1, 1],\n",
    "#         [0, 1, 0, 0, 0],\n",
    "#         [0, 0, 0, 1, 0],\n",
    "#         [1, 1, 1, 1, 0],\n",
    "#         [0, 0, 0, 1, 0]]\n",
    "\n",
    "init = [0, 0]\n",
    "goal = [len(grid)-1, len(grid[0])-1]\n",
    "cost = 1\n",
    "\n",
    "delta = [[-1, 0], # go up\n",
    "         [ 0,-1], # go left\n",
    "         [ 1, 0], # go down\n",
    "         [ 0, 1]] # go right\n",
    "\n",
    "delta_name = ['^', '<', 'v', '>']"
   ]
  },
  {
   "cell_type": "code",
   "execution_count": 6,
   "metadata": {
    "collapsed": true
   },
   "outputs": [],
   "source": [
    "def add_cells_to_open_list(open_cells, cells, new_cost):\n",
    "    for cell in cells:\n",
    "        open_cells.append([new_cost, cell[0], cell[1]])"
   ]
  },
  {
   "cell_type": "code",
   "execution_count": 7,
   "metadata": {
    "collapsed": true
   },
   "outputs": [],
   "source": [
    "def find_min_cost_cell(open_cells):\n",
    "    min_cell = open_cells[0]\n",
    "    for cell in open_cells:\n",
    "        #index 0 of each cell is actually cost\n",
    "        if(cell[0] < min_cell[0]):\n",
    "            min_cell = cell\n",
    "            \n",
    "    return min_cell"
   ]
  },
  {
   "cell_type": "code",
   "execution_count": 8,
   "metadata": {
    "collapsed": false
   },
   "outputs": [],
   "source": [
    "def search(grid,init,goal,cost, delta):\n",
    "    #list to store the path of cells traversed \n",
    "    path = []\n",
    "    #list of open cells that can be traveresed\n",
    "    open_cells = []\n",
    "    \n",
    "    #create a list to keep track of nodes\n",
    "    expand = [[-1 for c in range(len(grid[0]))] for r in range(len(grid))]\n",
    "    \n",
    "    #variable to keep track of cells visited count\n",
    "    visited_cells_count = 0\n",
    "\n",
    "    #current cell to be visited\n",
    "    current_cell = init\n",
    "    \n",
    "    #last visited cell\n",
    "    last_cell = init\n",
    "    \n",
    "    #mark current cell\n",
    "    grid[current_cell[0]][current_cell[1]] = 1\n",
    "    \n",
    "    #place the cell count number to current visited cell\n",
    "    expand[current_cell[0]][current_cell[1]] = visited_cells_count\n",
    "    \n",
    "    #increase cells counter by 1\n",
    "    visited_cells_count += 1\n",
    "    \n",
    "    #add current cell to path as it is traversed \n",
    "    path.append([cost, current_cell[0], current_cell[1]])\n",
    "    \n",
    "    #find next possible candidate cells that are not occupied and adjacent to current cell\n",
    "    next_cells = find_available_cells(grid, current_cell, delta)\n",
    "    #mark available cells as visited\n",
    "    for cell in next_cells:\n",
    "        r = cell[0]\n",
    "        c = cell[1]\n",
    "        grid[r][c] = 1\n",
    "        \n",
    "    #add candidate cells to list of open cells\n",
    "    add_cells_to_open_list(open_cells, next_cells, cost)\n",
    "    \n",
    "    while(len(open_cells) > 0):\n",
    "        #find a minimum cost cells from the list of cells\n",
    "        current_cell = find_min_cost_cell(open_cells)\n",
    "    \n",
    "        open_cells.remove(current_cell)\n",
    "        \n",
    "        #mark current cell\n",
    "        grid[current_cell[1]][current_cell[2]] = 1\n",
    "        \n",
    "        #place the cell count number to current visited cell\n",
    "        expand[current_cell[1]][current_cell[2]] = visited_cells_count\n",
    "        #increase cells counter by 1\n",
    "        visited_cells_count += 1\n",
    "        \n",
    "        #add current [cell.cost+1, cell] to path as it is traversed \n",
    "        path.append([current_cell[0], current_cell[1], current_cell[2]])\n",
    "        \n",
    "        #find next possible candidate cells that are not occupied and adjacent to current cell\n",
    "        next_cells = find_available_cells(grid, [current_cell[1], current_cell[2]], delta)\n",
    "        \n",
    "        #mark available cells as visited\n",
    "        for cell in next_cells:\n",
    "            r = cell[0]\n",
    "            c = cell[1]\n",
    "            grid[r][c] = 1\n",
    "        \n",
    "        #add candidate cells to list of open cells\n",
    "        add_cells_to_open_list(open_cells, next_cells, current_cell[0] + 1)\n",
    "        \n",
    "        last_cell = current_cell\n",
    "        \n",
    "        if [last_cell[1], last_cell[2]] == goal:\n",
    "            return path, expand\n",
    "    \n",
    "    return None, expand"
   ]
  },
  {
   "cell_type": "code",
   "execution_count": 9,
   "metadata": {
    "collapsed": false
   },
   "outputs": [
    {
     "name": "stdout",
     "output_type": "stream",
     "text": [
      "[11, 4, 5]\n",
      "[[1, 0, 0], [1, 1, 0], [1, 0, 1], [2, 2, 0], [2, 1, 1], [3, 3, 0], [3, 2, 1], [4, 4, 0], [4, 3, 1], [4, 2, 2], [5, 4, 1], [5, 2, 3], [6, 4, 2], [6, 1, 3], [7, 4, 3], [7, 0, 3], [7, 1, 4], [8, 0, 4], [8, 1, 5], [9, 0, 5], [9, 2, 5], [10, 3, 5], [11, 4, 5]]\n",
      "[   [0, 2, -1, 15, 17, 19],\n",
      "    [1, 4, -1, 13, 16, 18],\n",
      "    [3, 6, 9, 11, -1, 20],\n",
      "    [5, 8, -1, -1, -1, 21],\n",
      "    [7, 10, 12, 14, -1, 22]]\n"
     ]
    }
   ],
   "source": [
    "import pprint\n",
    "\n",
    "path, expand = search(grid, init, goal, cost, delta)\n",
    "if path == None:\n",
    "    print ('fail')\n",
    "else:\n",
    "    print(path[len(path)-1])\n",
    "    \n",
    "print(path)\n",
    "pp = pprint.PrettyPrinter(indent=4)\n",
    "pp.pprint(expand)\n",
    "\n",
    "# is_move_valid(grid, init, delta[3])\n",
    "# make_move(grid, init, delta[3])\n",
    "# find_available_cells(grid, init, delta)\n",
    "\n",
    "# cells1 = search(grid, init, goal, 4, delta)\n",
    "# cells = cells + cells1\n",
    "# cell = find_min_cost_cell(cells)\n",
    "# print(cell)\n",
    "# cells.remove(cell)\n",
    "# print(cells)\n",
    "# print(cells[0])\n",
    "# cells.remove(cells[0][0])\n",
    "# print(cells)\n",
    "# print(grid)\n",
    "# print(delta[0])\n",
    "# print(grid[0][1])\n"
   ]
  },
  {
   "cell_type": "code",
   "execution_count": 10,
   "metadata": {
    "collapsed": false
   },
   "outputs": [
    {
     "name": "stdout",
     "output_type": "stream",
     "text": [
      "[   [-1, -1, -1, -1, -1, -1],\n",
      "    [-1, -1, -1, -1, -1, -1],\n",
      "    [-1, -1, -1, -1, -1, -1],\n",
      "    [-1, -1, -1, -1, -1, -1],\n",
      "    [-1, -1, -1, -1, -1, -1]]\n"
     ]
    }
   ],
   "source": [
    "a = [[0, 1],[1, 0]]\n",
    "\n",
    "for r in range(len(a)):\n",
    "    for c in range(len(a[0])):\n",
    "        a[r][c] = -1\n",
    "        \n",
    "a = [[-1 for row in range(len(grid[0]))] for c in range(len(grid))]\n",
    "pp.pprint(a)"
   ]
  },
  {
   "cell_type": "markdown",
   "metadata": {},
   "source": [
    "## Using Heuristic Function to Optimize Search"
   ]
  },
  {
   "cell_type": "markdown",
   "metadata": {},
   "source": [
    "The heuristic function is a way to inform the search about the direction to a goal. It provides an informed way to guess which neighbor of a node will lead to a goal. There is nothing magical about a heuristic function."
   ]
  },
  {
   "cell_type": "code",
   "execution_count": null,
   "metadata": {
    "collapsed": true
   },
   "outputs": [],
   "source": []
  }
 ],
 "metadata": {
  "kernelspec": {
   "display_name": "Python 3",
   "language": "python",
   "name": "python3"
  },
  "language_info": {
   "codemirror_mode": {
    "name": "ipython",
    "version": 3
   },
   "file_extension": ".py",
   "mimetype": "text/x-python",
   "name": "python",
   "nbconvert_exporter": "python",
   "pygments_lexer": "ipython3",
   "version": "3.5.2"
  },
  "widgets": {
   "state": {},
   "version": "1.1.2"
  }
 },
 "nbformat": 4,
 "nbformat_minor": 2
}
