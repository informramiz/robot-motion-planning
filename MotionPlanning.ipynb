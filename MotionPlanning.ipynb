{
 "cells": [
  {
   "cell_type": "markdown",
   "metadata": {},
   "source": [
    "# Robot Motion Planning"
   ]
  },
  {
   "cell_type": "markdown",
   "metadata": {},
   "source": [
    "## Function Specifications"
   ]
  },
  {
   "cell_type": "markdown",
   "metadata": {},
   "source": [
    "Goal is to find a shortest path through a maze/grid in which there are hurdles as well. Grid/Maze format:\n",
    "- 0 = Navigable space\n",
    "- 1 = Occupied space\n",
    "\n",
    "Define a function, search() that returns a list in the form of [optimal path length, row, col]. For the grid shown below, function should output [11, 4, 5].\n",
    "\n",
    "If there is no valid path from the start point to the goal, function should return the string 'fail'."
   ]
  },
  {
   "cell_type": "code",
   "execution_count": 1,
   "metadata": {
    "collapsed": true
   },
   "outputs": [],
   "source": [
    "# Define a function, search() that returns a list\n",
    "# in the form of [optimal path length, row, col]. For\n",
    "# the grid shown below, function should output\n",
    "# [11, 4, 5].\n",
    "#\n",
    "# If there is no valid path from the start point\n",
    "# to the goal, function should return the string\n",
    "# 'fail'\n",
    "# ----------\n",
    "\n",
    "# Grid/Maze format:\n",
    "#   0 = Navigable space\n",
    "#   1 = Occupied space\n",
    "\n",
    "grid = [[0, 0, 1, 0, 0, 0],\n",
    "        [0, 0, 1, 0, 0, 0],\n",
    "        [0, 0, 0, 0, 1, 0],\n",
    "        [0, 0, 1, 1, 1, 0],\n",
    "        [0, 0, 0, 0, 1, 0]]\n",
    "\n",
    "init = [0, 0]\n",
    "goal = [len(grid)-1, len(grid[0])-1]\n",
    "cost = 1\n",
    "\n",
    "delta = [[-1, 0], # go up\n",
    "         [ 0,-1], # go left\n",
    "         [ 1, 0], # go down\n",
    "         [ 0, 1]] # go right\n",
    "\n",
    "delta_name = ['^', '<', 'v', '>']\n",
    "\n",
    "def search(grid,init,goal,cost):\n",
    "    # ----------------------------------------\n",
    "    # insert code here\n",
    "    # ----------------------------------------\n",
    "\n",
    "    return path"
   ]
  },
  {
   "cell_type": "code",
   "execution_count": 35,
   "metadata": {
    "collapsed": true
   },
   "outputs": [],
   "source": [
    "def get_next_cell(current_cell, move):\n",
    "    next_cell = [current_cell[0] + move[0], current_cell[1] + move[1]]\n",
    "    return next_cell"
   ]
  },
  {
   "cell_type": "code",
   "execution_count": 36,
   "metadata": {
    "collapsed": false
   },
   "outputs": [],
   "source": [
    "#Function to check if making the passed move is possible and valid\n",
    "def is_move_valid(grid, current_cell, move):\n",
    "    #calculate the next cell\n",
    "    next_cell = get_next_cell(current_cell, move)\n",
    "    \n",
    "    #make sure we are not overshooting the maze/grid boundary\n",
    "    if next_cell[0] >= len(grid[0]) or next_cell[1] >= len(grid[1]):\n",
    "        return False\n",
    "    \n",
    "    #make sure we are not undershooting the maze/grid boundary\n",
    "    if next_cell[0] < 0 or next_cell[1] < 0:\n",
    "        return False\n",
    "    \n",
    "    #make sure the cell is not already occupied, either because \n",
    "    #it is an obstacle or we traveresed it before\n",
    "    if grid[next_cell[0]][next_cell[1]] == 1:\n",
    "        return False\n",
    "    \n",
    "    return True"
   ]
  },
  {
   "cell_type": "code",
   "execution_count": 37,
   "metadata": {
    "collapsed": true
   },
   "outputs": [],
   "source": [
    "#function to make a move, it assumes that the move\n",
    "#passed is a valid move to make\n",
    "def make_move(grid, current_cell, move):\n",
    "    #calculate the next cell\n",
    "    #calculate the next cell\n",
    "    next_cell = get_next_cell(current_cell, move)\n",
    "    \n",
    "    #update the grid cell as marked\n",
    "    grid[next_cell[0]][next_cell[1]] = 1"
   ]
  },
  {
   "cell_type": "code",
   "execution_count": 38,
   "metadata": {
    "collapsed": true
   },
   "outputs": [],
   "source": [
    "#function to find possible adjacent cells which are not occupied\n",
    "def find_available_cells(grid, current_cell, moves):\n",
    "    available_cells = []\n",
    "    \n",
    "    for move in moves:\n",
    "        if (is_move_valid(grid, current_cell, move)):\n",
    "            available_cells.append(get_next_cell(current_cell, move))\n",
    "            \n",
    "    return available_cells"
   ]
  },
  {
   "cell_type": "code",
   "execution_count": 41,
   "metadata": {
    "collapsed": false
   },
   "outputs": [
    {
     "data": {
      "text/plain": [
       "[[1, 0]]"
      ]
     },
     "execution_count": 41,
     "metadata": {},
     "output_type": "execute_result"
    }
   ],
   "source": [
    "# is_move_valid(grid, init, delta[3])\n",
    "# make_move(grid, init, delta[3])\n",
    "find_available_cells(grid, init, delta)\n",
    "# print(grid)\n",
    "# print(delta[0])\n",
    "# print(grid[0][1])\n"
   ]
  },
  {
   "cell_type": "code",
   "execution_count": 23,
   "metadata": {
    "collapsed": false
   },
   "outputs": [
    {
     "name": "stdout",
     "output_type": "stream",
     "text": [
      "10\n"
     ]
    }
   ],
   "source": [
    "def test(c):\n",
    "    c = c + 10\n",
    "\n",
    "v = 10\n",
    "test(v)\n",
    "print(v)"
   ]
  },
  {
   "cell_type": "code",
   "execution_count": 31,
   "metadata": {
    "collapsed": false
   },
   "outputs": [
    {
     "name": "stdout",
     "output_type": "stream",
     "text": [
      "[[1, 1]]\n"
     ]
    }
   ],
   "source": [
    "a = []\n",
    "a.append([1,1])\n",
    "a.append(1)\n",
    "a.remove(1)\n",
    "print(a)"
   ]
  },
  {
   "cell_type": "code",
   "execution_count": null,
   "metadata": {
    "collapsed": true
   },
   "outputs": [],
   "source": []
  }
 ],
 "metadata": {
  "kernelspec": {
   "display_name": "Python 3",
   "language": "python",
   "name": "python3"
  },
  "language_info": {
   "codemirror_mode": {
    "name": "ipython",
    "version": 3
   },
   "file_extension": ".py",
   "mimetype": "text/x-python",
   "name": "python",
   "nbconvert_exporter": "python",
   "pygments_lexer": "ipython3",
   "version": "3.5.2"
  },
  "widgets": {
   "state": {},
   "version": "1.1.2"
  }
 },
 "nbformat": 4,
 "nbformat_minor": 2
}
